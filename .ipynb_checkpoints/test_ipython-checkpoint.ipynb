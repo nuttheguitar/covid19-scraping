{
 "cells": [
  {
   "cell_type": "code",
   "execution_count": 25,
   "metadata": {},
   "outputs": [],
   "source": [
    "## Writer :  https://github.com/UncleEngineer/covid19/blob/master/covid19uncle/covid19.py\n",
    "\n",
    "from urllib.request import urlopen as req\n",
    "from bs4 import BeautifulSoup as soup\n",
    "import pandas as pd\n",
    "import schedule\n",
    "import gspread\n",
    "import gspread_dataframe\n",
    "from oauth2client.service_account import ServiceAccountCredentials\n",
    "import json\n",
    "import time\n"
   ]
  },
  {
   "cell_type": "code",
   "execution_count": 34,
   "metadata": {},
   "outputs": [
    {
     "name": "stdout",
     "output_type": "stream",
     "text": [
      "0\n",
      "1\n"
     ]
    }
   ],
   "source": [
    "url = 'https://ddc.moph.go.th/viralpneumonia/'\n",
    "\n",
    "webopen = req(url)\n",
    "page_html = webopen.read()\n",
    "webopen.close()\n",
    "\n",
    "data = soup(page_html, 'html.parser')\n",
    "\n",
    "alldata = []\n",
    "\n",
    "result = {}\n",
    "time = str()\n",
    "\n",
    "table = data.findAll('div', {'class':'popup_blog'})\n",
    "#print(table[0])\n",
    "for i, tb in enumerate(table):\n",
    "\n",
    "\n",
    "    if i == 1:\n",
    "        print(1)\n",
    "        rw = tb.findAll('tr')\n",
    "        for i in range(len(rw)):\n",
    "            cl1 = [r.text for r in rw[i].findAll('td')]\n",
    "            alldata.append(cl1)\n",
    "\n",
    "\n",
    "    if i == 0:\n",
    "        print(0)\n",
    "        rw = tb.findAll('tr')\n",
    "        for i in range(len(rw)):\n",
    "            cl1 = [r.text for r in rw[i].findAll('td')]\n",
    "            alldata.append(cl1)"
   ]
  },
  {
   "cell_type": "code",
   "execution_count": 35,
   "metadata": {
    "scrolled": true
   },
   "outputs": [
    {
     "ename": "KeyError",
     "evalue": "'lasted_updated'",
     "output_type": "error",
     "traceback": [
      "\u001b[0;31m---------------------------------------------------------------------------\u001b[0m",
      "\u001b[0;31mKeyError\u001b[0m                                  Traceback (most recent call last)",
      "\u001b[0;32m<ipython-input-35-be63fc79e082>\u001b[0m in \u001b[0;36m<module>\u001b[0;34m\u001b[0m\n\u001b[0;32m----> 1\u001b[0;31m \u001b[0mresult\u001b[0m\u001b[0;34m[\u001b[0m\u001b[0;34m'lasted_updated'\u001b[0m\u001b[0;34m]\u001b[0m\u001b[0;34m\u001b[0m\u001b[0;34m\u001b[0m\u001b[0m\n\u001b[0m",
      "\u001b[0;31mKeyError\u001b[0m: 'lasted_updated'"
     ]
    }
   ],
   "source": [
    "result['lasted_updated']"
   ]
  },
  {
   "cell_type": "code",
   "execution_count": 37,
   "metadata": {},
   "outputs": [
    {
     "data": {
      "text/plain": [
       "'วันที่ 27 มีนาคม 2563'"
      ]
     },
     "execution_count": 37,
     "metadata": {},
     "output_type": "execute_result"
    }
   ],
   "source": [
    "alldata[0][0]"
   ]
  },
  {
   "cell_type": "code",
   "execution_count": 38,
   "metadata": {},
   "outputs": [
    {
     "data": {
      "text/plain": [
       "{'ท่าเรือ'}"
      ]
     },
     "execution_count": 38,
     "metadata": {},
     "output_type": "execute_result"
    }
   ],
   "source": [
    "{alldata[12][0]}"
   ]
  },
  {
   "cell_type": "code",
   "execution_count": 9,
   "metadata": {},
   "outputs": [
    {
     "ename": "IndexError",
     "evalue": "list index out of range",
     "output_type": "error",
     "traceback": [
      "\u001b[0;31m---------------------------------------------------------------------------\u001b[0m",
      "\u001b[0;31mIndexError\u001b[0m                                Traceback (most recent call last)",
      "\u001b[0;32m<ipython-input-9-7a5ff148e751>\u001b[0m in \u001b[0;36m<module>\u001b[0;34m\u001b[0m\n\u001b[1;32m     50\u001b[0m \u001b[0mresult\u001b[0m\u001b[0;34m[\u001b[0m\u001b[0;34m'in_hospital'\u001b[0m\u001b[0;34m]\u001b[0m \u001b[0;34m=\u001b[0m \u001b[0malldata\u001b[0m\u001b[0;34m[\u001b[0m\u001b[0;36m11\u001b[0m\u001b[0;34m]\u001b[0m\u001b[0;34m[\u001b[0m\u001b[0;36m0\u001b[0m\u001b[0;34m]\u001b[0m \u001b[0;31m# รักษาพยาบาลอยู่รพ\u001b[0m\u001b[0;34m\u001b[0m\u001b[0;34m\u001b[0m\u001b[0m\n\u001b[1;32m     51\u001b[0m \u001b[0mresult\u001b[0m\u001b[0;34m[\u001b[0m\u001b[0;34m'back_home'\u001b[0m\u001b[0;34m]\u001b[0m \u001b[0;34m=\u001b[0m \u001b[0malldata\u001b[0m\u001b[0;34m[\u001b[0m\u001b[0;36m11\u001b[0m\u001b[0;34m]\u001b[0m\u001b[0;34m[\u001b[0m\u001b[0;36m1\u001b[0m\u001b[0;34m]\u001b[0m \u001b[0;31m# รักษาพยาบาลกลับบ้าน\u001b[0m\u001b[0;34m\u001b[0m\u001b[0;34m\u001b[0m\u001b[0m\n\u001b[0;32m---> 52\u001b[0;31m \u001b[0mresult\u001b[0m\u001b[0;34m[\u001b[0m\u001b[0;34m'inspect_cases'\u001b[0m\u001b[0;34m]\u001b[0m \u001b[0;34m=\u001b[0m \u001b[0malldata\u001b[0m\u001b[0;34m[\u001b[0m\u001b[0;36m11\u001b[0m\u001b[0;34m]\u001b[0m\u001b[0;34m[\u001b[0m\u001b[0;36m2\u001b[0m\u001b[0;34m]\u001b[0m \u001b[0;31m# รักษาพยาบาลสังเกตอาการ\u001b[0m\u001b[0;34m\u001b[0m\u001b[0;34m\u001b[0m\u001b[0m\n\u001b[0m\u001b[1;32m     53\u001b[0m \u001b[0;34m\u001b[0m\u001b[0m\n\u001b[1;32m     54\u001b[0m \u001b[0;32mfor\u001b[0m \u001b[0md\u001b[0m \u001b[0;32min\u001b[0m \u001b[0malldata\u001b[0m\u001b[0;34m[\u001b[0m\u001b[0;36m14\u001b[0m\u001b[0;34m:\u001b[0m\u001b[0;34m]\u001b[0m\u001b[0;34m:\u001b[0m\u001b[0;34m\u001b[0m\u001b[0;34m\u001b[0m\u001b[0m\n",
      "\u001b[0;31mIndexError\u001b[0m: list index out of range"
     ]
    }
   ],
   "source": [
    "result['lasted_updated'] = f'{alldata[0][0]} {alldata[12][0]}' # เวลาอัพเดตล่าสุด\n",
    "datetime_eng = result['lasted_updated']\n",
    "datetime_eng = datetime_eng.split(' ')\n",
    "\n",
    "if datetime_eng[2].startswith('มก'):\n",
    "    datetime_eng[2] = '01'\n",
    "\n",
    "elif datetime_eng[2].startswith('กุม'):\n",
    "    datetime_eng[2] = '02'\n",
    "\n",
    "elif datetime_eng[2].startswith('มี'):\n",
    "    datetime_eng[2] = '03'\n",
    "\n",
    "elif datetime_eng[2].startswith('เมษ'):\n",
    "    datetime_eng[2] = '04'\n",
    "\n",
    "elif datetime_eng[2].startswith('พฤษ'):\n",
    "    datetime_eng[2] = '05'\n",
    "\n",
    "elif datetime_eng[2].startswith('มิถุ'):\n",
    "    datetime_eng[2] = '06'\n",
    "\n",
    "elif datetime_eng[2].startswith('กรก'):\n",
    "    datetime_eng[2] = '07'\n",
    "\n",
    "elif datetime_eng[2].startswith('สิงหา'):\n",
    "    datetime_eng[2] = '08'\n",
    "\n",
    "elif datetime_eng[2].startswith('กันยา'):\n",
    "    datetime_eng[2] = '09'\n",
    "\n",
    "elif datetime_eng[2].startswith('ตุลา'):\n",
    "    datetime_eng[2] = '10'\n",
    "\n",
    "elif datetime_eng[2].startswith('พฤศ'):\n",
    "    datetime_eng[2] = '11'\n",
    "\n",
    "elif datetime_eng[2].startswith('ธัน'):\n",
    "    datetime_eng[2] = '12'\n",
    "\n",
    "result['lasted_updated'] = str(int(datetime_eng[3])-543)+'-'+datetime_eng[2]+'-'+datetime_eng[1]\n",
    "result['total'] = alldata[3][0] # ผู้ป่วยสะสม\n",
    "result['new_cases'] = alldata[3][1] # ผู้ป่วยรายใหม่\n",
    "result['serious_critical'] = alldata[5][0] # ผู้ป่วยรุนแรง\n",
    "result['total_deaths'] = alldata[5][1] # ผู้ป่วยเสียชีวิต\n",
    "result['recoverd'] = alldata[5][2] # ผู้ป่วยกลับบ้านแล้ว\n",
    "result['total_active_cases'] = alldata[8][0] # ผู้ป่วยเฝ้าระวังสะสม\n",
    "result['new_active_cases'] = alldata[8][1] # ผู้ป่วยเฝ้าระวังรายใหม่\n",
    "result['recovering'] = str(int(result['total'].replace(',', '')) - (int(result['recoverd'].replace(',', '')) + int(result['total_deaths'].replace(',', '')))) # ผู้ป่วยกำลังรักษา\n",
    "result['in_hospital'] = '-' # รักษาพยาบาลอยู่รพ\n",
    "result['back_home'] = '-' # รักษาพยาบาลกลับบ้าน\n",
    "result['inspect_cases'] = '-' # รักษาพยาบาลสังเกตอาการ\n",
    "\n",
    "for d in alldata[14:]:\n",
    "    if d[0].startswith('สนาม'):\n",
    "        d[0] = 'airport'\n",
    "    elif d[0].startswith('ท่า'):\n",
    "        d[0] = 'port'\n",
    "    elif d[0].startswith('ด่าน'):\n",
    "        d[0] = 'border'\n",
    "    elif d[0].startswith('สตม'):\n",
    "        d[0] = 'immigration_bureau_jaeng_wattana'\n",
    "\n",
    "    result['total_traveler_from_'+d[0]] = d[1] \n",
    "\n",
    "result['Reference'] = url"
   ]
  },
  {
   "cell_type": "code",
   "execution_count": 36,
   "metadata": {},
   "outputs": [
    {
     "data": {
      "text/plain": [
       "[['วันที่ 27 มีนาคม 2563'],\n",
       " ['ผู้ป่วยยืนยัน (คน)'],\n",
       " ['สะสม', 'รายใหม่'],\n",
       " ['1,136', '91'],\n",
       " ['รุนแรง', 'เสียชีวิต', 'กลับบ้านแล้ว'],\n",
       " ['11', '5', '97'],\n",
       " ['ผู้ป่วยเข้าเกณฑ์ห์เฝ้าระวัง (คน)'],\n",
       " ['สะสม', 'รายใหม่'],\n",
       " ['15,342', '50'],\n",
       " ['เวลา 11.00 น.'],\n",
       " ['ผู้เดินทางที่คัดกรองสะสม (คน)'],\n",
       " ['สนามบิน', '4,262,380'],\n",
       " ['ท่าเรือ', '126,707'],\n",
       " ['ด่านพรมแดน', '1,676,535'],\n",
       " ['สตม.แจ้งวัฒนะ', '132,019']]"
      ]
     },
     "execution_count": 36,
     "metadata": {},
     "output_type": "execute_result"
    }
   ],
   "source": [
    "alldata"
   ]
  },
  {
   "cell_type": "code",
   "execution_count": null,
   "metadata": {},
   "outputs": [],
   "source": []
  }
 ],
 "metadata": {
  "kernelspec": {
   "display_name": "Python 3",
   "language": "python",
   "name": "python3"
  },
  "language_info": {
   "codemirror_mode": {
    "name": "ipython",
    "version": 3
   },
   "file_extension": ".py",
   "mimetype": "text/x-python",
   "name": "python",
   "nbconvert_exporter": "python",
   "pygments_lexer": "ipython3",
   "version": "3.6.8"
  }
 },
 "nbformat": 4,
 "nbformat_minor": 2
}
